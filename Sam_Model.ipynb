{
  "cells": [
    {
      "cell_type": "code",
      "execution_count": 1,
      "metadata": {
        "id": "QT2VqLG5BhAQ"
      },
      "outputs": [],
      "source": [
        "import numpy as np\n",
        "import pandas as pd"
      ]
    },
    {
      "cell_type": "code",
      "execution_count": 2,
      "metadata": {
        "id": "_ZuYIKHHBhAS"
      },
      "outputs": [],
      "source": [
        "# Declare all variables as strings. Spaces must be replaced with '+', i.e., change 'John Smith' to 'John+Smith'.\n",
        "# Define the lat, long of the location and the year\n",
        "lat, lon, year =27.877928,85.274818,2000 \n",
        "\n",
        "# You must request an NSRDB api key from the link above\n",
        "api_key = 'PUt8OMN6vPFfyMSuHhYa4Y8vgsuFH5jaetWByYcW'\n",
        "# Set the attributes to extract (e.g., dhi, ghi, etc.), separated by commas.\n",
        "attributes = 'ghi,solar_zenith_angle,wind_speed,air_temperature,dhi,dni'\n",
        "# Choose year of data\n",
        "year = '2012'\n",
        "# Set leap year to true or false. True will return leap day data if present, false will not.\n",
        "leap_year = 'false'\n",
        "# Set time interval in minutes, i.e., '30' is half hour intervals. Valid intervals are 30 & 60.\n",
        "interval = '60'\n",
        "# Specify Coordinated Universal Time (UTC), 'true' will use UTC, 'false' will use the local time zone of the data.\n",
        "# NOTE: In order to use the NSRDB data in SAM, you must specify UTC as 'false'. SAM requires the data to be in the\n",
        "# local time zone.\n",
        "utc = 'false'\n",
        "# Your full name, use '+' instead of spaces.\n",
        "your_name = 'Deependra+Neupane'\n",
        "# Your reason for using the NSRDB.\n",
        "reason_for_use = 'research'\n",
        "# Your affiliation\n",
        "your_affiliation = 'ioe'\n",
        "# Your email address\n",
        "your_email = 'deependran.neupane@gmail.com'\n",
        "# Please join our mailing list so we can keep you up-to-date on new developments.\n",
        "mailing_list = 'true'\n",
        "\n",
        "# Declare url string\n",
        "url = 'https://developer.nrel.gov/api/nsrdb/v2/solar/suny-india-download.csv?wkt=POINT({lon}%20{lat})&names={year}&leap_day={leap}&interval={interval}&utc={utc}&full_name={name}&email={email}&affiliation={affiliation}&mailing_list={mailing_list}&reason={reason}&api_key={api}&attributes={attr}'.format(year=year, lat=lat, lon=lon, leap=leap_year, interval=interval, utc=utc, name=your_name, email=your_email, mailing_list=mailing_list, affiliation=your_affiliation, reason=reason_for_use, api=api_key, attr=attributes)\n",
        "# Return just the first 2 lines to get metadata:\n",
        "info = pd.read_csv(url, nrows=1)\n",
        "# See metadata for specified properties, e.g., timezone and elevation\n",
        "timezone, elevation = info['Local Time Zone'], info['Elevation']"
      ]
    },
    {
      "cell_type": "code",
      "execution_count": 8,
      "metadata": {
        "colab": {
          "base_uri": "https://localhost:8080/"
        },
        "id": "JwGb_2OoBhAU",
        "outputId": "1e770170-a492-4b10-b819-5c1b8eaf1e2e"
      },
      "outputs": [
        {
          "output_type": "execute_result",
          "data": {
            "text/plain": [
              "Index(['Source', 'Location ID', 'City', 'State', 'Country', 'Latitude',\n",
              "       'Longitude', 'Time Zone', 'Elevation', 'Local Time Zone',\n",
              "       'Clearsky DHI Units', 'Clearsky DNI Units', 'Clearsky GHI Units',\n",
              "       'Dew Point Units', 'DHI Units', 'DHI Perez Units', 'DNI Units',\n",
              "       'DNI Perez Units', 'GHI Units', 'GHI Perez Units',\n",
              "       'Solar Zenith Angle Units', 'Temperature Units', 'Pressure Units',\n",
              "       'Relative Humidity Units', 'Precipitable Water Units',\n",
              "       'Wind Direction Units', 'Wind Speed Units', 'Snow Depth Units',\n",
              "       'Fill Flag 0', 'Fill Flag 1', 'Fill Flag 2', 'Fill Flag 3',\n",
              "       'Fill Flag 4', 'Fill Flag 5', 'Version'],\n",
              "      dtype='object')"
            ]
          },
          "metadata": {},
          "execution_count": 8
        }
      ],
      "source": [
        "info.columns"
      ]
    },
    {
      "cell_type": "code",
      "execution_count": 4,
      "metadata": {
        "colab": {
          "base_uri": "https://localhost:8080/",
          "height": 206
        },
        "id": "eu8Xj8qjBhAV",
        "outputId": "d5a20a5f-1a6c-4ceb-a598-ade292fd8d0f"
      },
      "outputs": [
        {
          "output_type": "execute_result",
          "data": {
            "text/plain": [
              "                     Year  Month  Day  Hour  Minute  GHI  Solar Zenith Angle  \\\n",
              "2012-01-01 00:00:00  2012      1    1     0       0    0              170.23   \n",
              "2012-01-01 01:00:00  2012      1    1     1       0    0              157.47   \n",
              "2012-01-01 02:00:00  2012      1    1     2       0    0              144.24   \n",
              "2012-01-01 03:00:00  2012      1    1     3       0    0              131.02   \n",
              "2012-01-01 04:00:00  2012      1    1     4       0    0              117.97   \n",
              "\n",
              "                     Wind Speed  Temperature  DHI  DNI  \n",
              "2012-01-01 00:00:00         2.1            3    0    0  \n",
              "2012-01-01 01:00:00         2.1            3    0    0  \n",
              "2012-01-01 02:00:00         2.1            3    0    0  \n",
              "2012-01-01 03:00:00         2.0            3    0    0  \n",
              "2012-01-01 04:00:00         2.0            3    0    0  "
            ],
            "text/html": [
              "\n",
              "  <div id=\"df-c72c6653-916b-4a89-969e-d20ece0dab1a\">\n",
              "    <div class=\"colab-df-container\">\n",
              "      <div>\n",
              "<style scoped>\n",
              "    .dataframe tbody tr th:only-of-type {\n",
              "        vertical-align: middle;\n",
              "    }\n",
              "\n",
              "    .dataframe tbody tr th {\n",
              "        vertical-align: top;\n",
              "    }\n",
              "\n",
              "    .dataframe thead th {\n",
              "        text-align: right;\n",
              "    }\n",
              "</style>\n",
              "<table border=\"1\" class=\"dataframe\">\n",
              "  <thead>\n",
              "    <tr style=\"text-align: right;\">\n",
              "      <th></th>\n",
              "      <th>Year</th>\n",
              "      <th>Month</th>\n",
              "      <th>Day</th>\n",
              "      <th>Hour</th>\n",
              "      <th>Minute</th>\n",
              "      <th>GHI</th>\n",
              "      <th>Solar Zenith Angle</th>\n",
              "      <th>Wind Speed</th>\n",
              "      <th>Temperature</th>\n",
              "      <th>DHI</th>\n",
              "      <th>DNI</th>\n",
              "    </tr>\n",
              "  </thead>\n",
              "  <tbody>\n",
              "    <tr>\n",
              "      <th>2012-01-01 00:00:00</th>\n",
              "      <td>2012</td>\n",
              "      <td>1</td>\n",
              "      <td>1</td>\n",
              "      <td>0</td>\n",
              "      <td>0</td>\n",
              "      <td>0</td>\n",
              "      <td>170.23</td>\n",
              "      <td>2.1</td>\n",
              "      <td>3</td>\n",
              "      <td>0</td>\n",
              "      <td>0</td>\n",
              "    </tr>\n",
              "    <tr>\n",
              "      <th>2012-01-01 01:00:00</th>\n",
              "      <td>2012</td>\n",
              "      <td>1</td>\n",
              "      <td>1</td>\n",
              "      <td>1</td>\n",
              "      <td>0</td>\n",
              "      <td>0</td>\n",
              "      <td>157.47</td>\n",
              "      <td>2.1</td>\n",
              "      <td>3</td>\n",
              "      <td>0</td>\n",
              "      <td>0</td>\n",
              "    </tr>\n",
              "    <tr>\n",
              "      <th>2012-01-01 02:00:00</th>\n",
              "      <td>2012</td>\n",
              "      <td>1</td>\n",
              "      <td>1</td>\n",
              "      <td>2</td>\n",
              "      <td>0</td>\n",
              "      <td>0</td>\n",
              "      <td>144.24</td>\n",
              "      <td>2.1</td>\n",
              "      <td>3</td>\n",
              "      <td>0</td>\n",
              "      <td>0</td>\n",
              "    </tr>\n",
              "    <tr>\n",
              "      <th>2012-01-01 03:00:00</th>\n",
              "      <td>2012</td>\n",
              "      <td>1</td>\n",
              "      <td>1</td>\n",
              "      <td>3</td>\n",
              "      <td>0</td>\n",
              "      <td>0</td>\n",
              "      <td>131.02</td>\n",
              "      <td>2.0</td>\n",
              "      <td>3</td>\n",
              "      <td>0</td>\n",
              "      <td>0</td>\n",
              "    </tr>\n",
              "    <tr>\n",
              "      <th>2012-01-01 04:00:00</th>\n",
              "      <td>2012</td>\n",
              "      <td>1</td>\n",
              "      <td>1</td>\n",
              "      <td>4</td>\n",
              "      <td>0</td>\n",
              "      <td>0</td>\n",
              "      <td>117.97</td>\n",
              "      <td>2.0</td>\n",
              "      <td>3</td>\n",
              "      <td>0</td>\n",
              "      <td>0</td>\n",
              "    </tr>\n",
              "  </tbody>\n",
              "</table>\n",
              "</div>\n",
              "      <button class=\"colab-df-convert\" onclick=\"convertToInteractive('df-c72c6653-916b-4a89-969e-d20ece0dab1a')\"\n",
              "              title=\"Convert this dataframe to an interactive table.\"\n",
              "              style=\"display:none;\">\n",
              "        \n",
              "  <svg xmlns=\"http://www.w3.org/2000/svg\" height=\"24px\"viewBox=\"0 0 24 24\"\n",
              "       width=\"24px\">\n",
              "    <path d=\"M0 0h24v24H0V0z\" fill=\"none\"/>\n",
              "    <path d=\"M18.56 5.44l.94 2.06.94-2.06 2.06-.94-2.06-.94-.94-2.06-.94 2.06-2.06.94zm-11 1L8.5 8.5l.94-2.06 2.06-.94-2.06-.94L8.5 2.5l-.94 2.06-2.06.94zm10 10l.94 2.06.94-2.06 2.06-.94-2.06-.94-.94-2.06-.94 2.06-2.06.94z\"/><path d=\"M17.41 7.96l-1.37-1.37c-.4-.4-.92-.59-1.43-.59-.52 0-1.04.2-1.43.59L10.3 9.45l-7.72 7.72c-.78.78-.78 2.05 0 2.83L4 21.41c.39.39.9.59 1.41.59.51 0 1.02-.2 1.41-.59l7.78-7.78 2.81-2.81c.8-.78.8-2.07 0-2.86zM5.41 20L4 18.59l7.72-7.72 1.47 1.35L5.41 20z\"/>\n",
              "  </svg>\n",
              "      </button>\n",
              "      \n",
              "  <style>\n",
              "    .colab-df-container {\n",
              "      display:flex;\n",
              "      flex-wrap:wrap;\n",
              "      gap: 12px;\n",
              "    }\n",
              "\n",
              "    .colab-df-convert {\n",
              "      background-color: #E8F0FE;\n",
              "      border: none;\n",
              "      border-radius: 50%;\n",
              "      cursor: pointer;\n",
              "      display: none;\n",
              "      fill: #1967D2;\n",
              "      height: 32px;\n",
              "      padding: 0 0 0 0;\n",
              "      width: 32px;\n",
              "    }\n",
              "\n",
              "    .colab-df-convert:hover {\n",
              "      background-color: #E2EBFA;\n",
              "      box-shadow: 0px 1px 2px rgba(60, 64, 67, 0.3), 0px 1px 3px 1px rgba(60, 64, 67, 0.15);\n",
              "      fill: #174EA6;\n",
              "    }\n",
              "\n",
              "    [theme=dark] .colab-df-convert {\n",
              "      background-color: #3B4455;\n",
              "      fill: #D2E3FC;\n",
              "    }\n",
              "\n",
              "    [theme=dark] .colab-df-convert:hover {\n",
              "      background-color: #434B5C;\n",
              "      box-shadow: 0px 1px 3px 1px rgba(0, 0, 0, 0.15);\n",
              "      filter: drop-shadow(0px 1px 2px rgba(0, 0, 0, 0.3));\n",
              "      fill: #FFFFFF;\n",
              "    }\n",
              "  </style>\n",
              "\n",
              "      <script>\n",
              "        const buttonEl =\n",
              "          document.querySelector('#df-c72c6653-916b-4a89-969e-d20ece0dab1a button.colab-df-convert');\n",
              "        buttonEl.style.display =\n",
              "          google.colab.kernel.accessAllowed ? 'block' : 'none';\n",
              "\n",
              "        async function convertToInteractive(key) {\n",
              "          const element = document.querySelector('#df-c72c6653-916b-4a89-969e-d20ece0dab1a');\n",
              "          const dataTable =\n",
              "            await google.colab.kernel.invokeFunction('convertToInteractive',\n",
              "                                                     [key], {});\n",
              "          if (!dataTable) return;\n",
              "\n",
              "          const docLinkHtml = 'Like what you see? Visit the ' +\n",
              "            '<a target=\"_blank\" href=https://colab.research.google.com/notebooks/data_table.ipynb>data table notebook</a>'\n",
              "            + ' to learn more about interactive tables.';\n",
              "          element.innerHTML = '';\n",
              "          dataTable['output_type'] = 'display_data';\n",
              "          await google.colab.output.renderOutput(dataTable, element);\n",
              "          const docLink = document.createElement('div');\n",
              "          docLink.innerHTML = docLinkHtml;\n",
              "          element.appendChild(docLink);\n",
              "        }\n",
              "      </script>\n",
              "    </div>\n",
              "  </div>\n",
              "  "
            ]
          },
          "metadata": {},
          "execution_count": 4
        }
      ],
      "source": [
        "# Return all but first 2 lines of csv to get data:\n",
        "df = pd.read_csv('https://developer.nrel.gov/api/nsrdb/v2/solar/suny-india-download.csv?wkt=POINT({lon}%20{lat})&names={year}&leap_day={leap}&interval={interval}&utc={utc}&full_name={name}&email={email}&affiliation={affiliation}&mailing_list={mailing_list}&reason={reason}&api_key={api}&attributes={attr}'.format(year=year, lat=lat, lon=lon, leap=leap_year, interval=interval, utc=utc, name=your_name, email=your_email, mailing_list=mailing_list, affiliation=your_affiliation, reason=reason_for_use, api=api_key, attr=attributes), skiprows=2)\n",
        "\n",
        "# Set the time index in the pandas dataframe:\n",
        "df = df.set_index(pd.date_range('1/1/{yr}'.format(yr=year), freq=interval+'Min', periods=525600/int(interval)))\n",
        "\n",
        "# take a look\n",
        "df.head()"
      ]
    },
    {
      "cell_type": "code",
      "execution_count": 5,
      "metadata": {
        "colab": {
          "base_uri": "https://localhost:8080/",
          "height": 282
        },
        "id": "eW0f4riCBhAW",
        "outputId": "0b183311-33a5-40c7-96c3-0addb570f322"
      },
      "outputs": [
        {
          "output_type": "execute_result",
          "data": {
            "text/plain": [
              "<matplotlib.axes._subplots.AxesSubplot at 0x7fe398766090>"
            ]
          },
          "metadata": {},
          "execution_count": 5
        },
        {
          "output_type": "display_data",
          "data": {
            "text/plain": [
              "<Figure size 432x288 with 1 Axes>"
            ],
            "image/png": "[encoded data removed]"
          },
          "metadata": {
            "needs_background": "light"
          }
        }
      ],
      "source": [
        "df['GHI'].hist() "
      ]
    },
    {
      "cell_type": "code",
      "execution_count": 6,
      "metadata": {
        "id": "Br7s89ThBhAW"
      },
      "outputs": [],
      "source": [
        "import requests as req\n",
        "import random\n",
        "import matplotlib.pyplot as plt"
      ]
    },
    {
      "cell_type": "code",
      "execution_count": 24,
      "metadata": {
        "colab": {
          "base_uri": "https://localhost:8080/"
        },
        "id": "iANWx7OZBhAX",
        "outputId": "5c911c0c-623f-4431-ff5a-800d154f9324"
      },
      "outputs": [
        {
          "output_type": "stream",
          "name": "stdout",
          "text": [
            "data for lat = 29.6328960775092 and lon = 87.1520584334189\n",
            "data of 0\n",
            "data for lat = 29.300237892589163 and lon = 83.74762152451949\n",
            "data of 1\n",
            "data for lat = 26.897896812923996 and lon = 87.81025423137235\n",
            "data of 2\n",
            "data for lat = 29.758821026457667 and lon = 82.6169398858646\n",
            "data of 3\n",
            "data for lat = 28.131294879940647 and lon = 84.34331856145582\n",
            "data of 4\n",
            "data for lat = 26.662770656864957 and lon = 87.01599949899449\n",
            "data of 5\n",
            "data for lat = 28.886066317385175 and lon = 80.48897823152949\n",
            "data of 6\n",
            "data for lat = 27.061726112083587 and lon = 81.33618000710541\n",
            "data of 7\n",
            "data for lat = 28.826089874662074 and lon = 86.28651057589015\n",
            "data of 8\n",
            "data for lat = 29.265132950381194 and lon = 82.39726791412059\n",
            "data of 9\n",
            "data for lat = 26.629360542447472 and lon = 87.54210886328545\n",
            "data of 10\n",
            "data for lat = 29.769013402784005 and lon = 84.58026903147318\n",
            "data of 11\n",
            "data for lat = 30.205356170390004 and lon = 86.75890597256235\n",
            "data of 12\n",
            "data for lat = 28.62774848774813 and lon = 84.01817674109027\n",
            "data of 13\n",
            "data for lat = 27.721020654886054 and lon = 80.52780217546196\n",
            "data of 14\n",
            "data for lat = 29.792272305767803 and lon = 81.40991209363568\n",
            "data of 15\n",
            "data for lat = 26.88680071517721 and lon = 87.02589157879213\n",
            "data of 16\n",
            "data for lat = 28.25407524722196 and lon = 82.22134813788855\n",
            "data of 17\n",
            "data for lat = 29.75725956034076 and lon = 81.53349043252194\n",
            "data of 18\n",
            "data for lat = 29.962156917469933 and lon = 86.77297325539632\n",
            "data of 19\n",
            "data for lat = 29.353133452842094 and lon = 84.87031230266703\n",
            "data of 20\n",
            "data for lat = 27.960490691034796 and lon = 85.33424571644515\n",
            "data of 21\n",
            "data for lat = 28.781098869173846 and lon = 85.65699764384783\n",
            "data of 22\n",
            "data for lat = 27.58316917307892 and lon = 85.18341975685976\n",
            "data of 23\n",
            "data for lat = 27.057575082921478 and lon = 80.60240734453109\n",
            "data of 24\n",
            "data for lat = 29.575281381380705 and lon = 82.37842889959778\n",
            "data of 25\n",
            "data for lat = 29.216978402743 and lon = 84.23333372926749\n",
            "data of 26\n",
            "data for lat = 28.975290945146448 and lon = 83.46115933706054\n",
            "data of 27\n",
            "data for lat = 28.382610166268755 and lon = 83.05998130337386\n",
            "data of 28\n",
            "data for lat = 28.739698160287094 and lon = 85.22952786954859\n",
            "data of 29\n",
            "data for lat = 27.271862498080395 and lon = 82.68503930104735\n",
            "data of 30\n",
            "data for lat = 27.56180032092639 and lon = 83.93012243626205\n",
            "data of 31\n",
            "data for lat = 26.38813152178923 and lon = 84.36115371942128\n",
            "data of 32\n",
            "data for lat = 26.742731750833006 and lon = 85.7653050054481\n",
            "data of 33\n",
            "data for lat = 28.358224989089297 and lon = 82.90875606683734\n",
            "data of 34\n",
            "data for lat = 29.29705356057807 and lon = 83.78943982103682\n",
            "data of 35\n",
            "data for lat = 28.287618038573843 and lon = 81.72124964794635\n",
            "data of 36\n",
            "data for lat = 28.27220955595816 and lon = 86.97933885318147\n",
            "data of 37\n",
            "data for lat = 29.88887617650313 and lon = 80.56790649035368\n",
            "data of 38\n",
            "data for lat = 27.301632272542694 and lon = 87.38391344915729\n",
            "data of 39\n",
            "data for lat = 30.22225355379121 and lon = 84.20752739256298\n",
            "data of 40\n",
            "data for lat = 28.87463298390503 and lon = 81.29157506757032\n",
            "data of 41\n",
            "data for lat = 29.600727715914637 and lon = 85.00665363752282\n",
            "data of 42\n",
            "data for lat = 28.384296366184632 and lon = 82.90242353510561\n",
            "data of 43\n",
            "data for lat = 27.484017029905697 and lon = 86.91028424855178\n",
            "data of 44\n",
            "data for lat = 27.72114324254216 and lon = 85.06712241166566\n",
            "data of 45\n",
            "data for lat = 27.606605789127137 and lon = 81.64300087787443\n",
            "data of 46\n",
            "data for lat = 30.40134488925802 and lon = 87.11737250042528\n",
            "data of 47\n",
            "data for lat = 26.5167480807312 and lon = 86.00597966412768\n",
            "data of 48\n",
            "data for lat = 26.56128318976344 and lon = 82.42627127222332\n",
            "data of 49\n",
            "data for lat = 27.052858866408624 and lon = 87.72390549947326\n",
            "data of 50\n",
            "data for lat = 26.57754199813448 and lon = 85.90872874204841\n",
            "data of 51\n",
            "data for lat = 30.05917455610359 and lon = 84.78721022108118\n",
            "data of 52\n",
            "data for lat = 29.762601235794364 and lon = 85.44190647803072\n",
            "data of 53\n",
            "data for lat = 28.663758284517865 and lon = 87.4760542242558\n",
            "data of 54\n",
            "data for lat = 27.024191555790043 and lon = 86.64274436066528\n",
            "data of 55\n",
            "data for lat = 29.1663657330478 and lon = 81.86210372150553\n",
            "data of 56\n",
            "data for lat = 28.66198216131724 and lon = 87.35329380879828\n",
            "data of 57\n",
            "data for lat = 29.427495553631363 and lon = 84.27658336421058\n",
            "data of 58\n",
            "data for lat = 27.48798077169193 and lon = 87.82757028882978\n",
            "data of 59\n",
            "data for lat = 29.880731982774652 and lon = 85.27332138187572\n",
            "data of 60\n",
            "data for lat = 27.992029009460886 and lon = 80.69930137433965\n",
            "data of 61\n",
            "data for lat = 30.233527521356027 and lon = 84.33157435389685\n",
            "data of 62\n",
            "data for lat = 28.69469178602694 and lon = 82.51358901089976\n",
            "data of 63\n",
            "data for lat = 28.10566598453984 and lon = 80.4519897030094\n",
            "data of 64\n",
            "data for lat = 28.28750208557389 and lon = 85.96997379511565\n",
            "data of 65\n",
            "data for lat = 27.43566343160166 and lon = 87.11402971030728\n",
            "data of 66\n",
            "data for lat = 27.3605895592731 and lon = 82.40243726829998\n",
            "data of 67\n",
            "data for lat = 29.523020101021295 and lon = 81.07736631015865\n",
            "data of 68\n",
            "data for lat = 26.68571012717986 and lon = 84.42716946439566\n",
            "data of 69\n",
            "data for lat = 26.786778492634642 and lon = 80.72814591673469\n",
            "data of 70\n",
            "data for lat = 28.594755009587608 and lon = 86.01104337634854\n",
            "data of 71\n",
            "data for lat = 29.446713303289375 and lon = 85.51114717644023\n",
            "data of 72\n",
            "data for lat = 27.300871546696925 and lon = 81.5136359534017\n",
            "data of 73\n",
            "data for lat = 26.79726995183118 and lon = 84.19163144867326\n",
            "data of 74\n",
            "data for lat = 26.46670538882427 and lon = 86.308809597953\n",
            "data of 75\n",
            "data for lat = 29.685499503005673 and lon = 83.89249170065641\n",
            "data of 76\n",
            "data for lat = 27.903847437087926 and lon = 83.34169322405366\n",
            "data of 77\n",
            "data for lat = 26.945671021022807 and lon = 80.85321245067904\n",
            "data of 78\n",
            "data for lat = 29.203354810550742 and lon = 86.1957336691137\n",
            "data of 79\n",
            "data for lat = 28.699876159936615 and lon = 86.28355511215216\n",
            "data of 80\n",
            "data for lat = 28.801816769551763 and lon = 81.78959841407902\n",
            "data of 81\n",
            "data for lat = 27.358651121086258 and lon = 87.25930300010334\n",
            "data of 82\n",
            "data for lat = 26.688476588234114 and lon = 84.84071052475122\n",
            "data of 83\n",
            "data for lat = 26.725199203828144 and lon = 86.44289458465259\n",
            "data of 84\n",
            "data for lat = 28.737425582375387 and lon = 81.88145488670432\n",
            "data of 85\n",
            "data for lat = 29.733207002608758 and lon = 88.08416061724412\n",
            "data of 86\n",
            "data for lat = 27.413843656783566 and lon = 82.81385176628093\n",
            "data of 87\n",
            "data for lat = 30.00348797028302 and lon = 82.30675533554013\n",
            "data of 88\n",
            "data for lat = 28.673371254878614 and lon = 80.32361874577589\n",
            "data of 89\n",
            "data for lat = 28.645895698598334 and lon = 84.88389449005483\n",
            "data of 90\n",
            "data for lat = 27.530978864962677 and lon = 80.59306860388756\n",
            "data of 91\n",
            "data for lat = 28.676984062617503 and lon = 86.00605574974986\n",
            "data of 92\n",
            "data for lat = 26.564050944274832 and lon = 88.13272726410617\n",
            "data of 93\n",
            "data for lat = 27.770014858225494 and lon = 88.10409780581666\n",
            "data of 94\n",
            "data for lat = 26.821381249977012 and lon = 82.55677456829385\n",
            "data of 95\n",
            "data for lat = 28.483970356543622 and lon = 85.34561333881963\n",
            "data of 96\n",
            "data for lat = 28.055949883282533 and lon = 80.27611939820358\n",
            "data of 97\n",
            "data for lat = 29.92729785550006 and lon = 86.35907438527374\n",
            "data of 98\n",
            "data for lat = 28.332245299051 and lon = 84.08847800479913\n",
            "data of 99\n",
            "data for lat = 26.838676053994607 and lon = 85.39841808912252\n",
            "data of 100\n",
            "data for lat = 29.0272089347875 and lon = 86.67828115918815\n",
            "data of 101\n",
            "data for lat = 28.7505757300514 and lon = 82.08862835813494\n",
            "data of 102\n",
            "data for lat = 27.719160277780716 and lon = 85.24668508156422\n",
            "data of 103\n",
            "data for lat = 29.85061899348787 and lon = 84.36374513628923\n",
            "data of 104\n",
            "data for lat = 28.861852888841216 and lon = 87.01896670866356\n",
            "data of 105\n",
            "data for lat = 26.838462531884097 and lon = 83.14457798091136\n",
            "data of 106\n",
            "data for lat = 26.43102982392872 and lon = 81.44947028784324\n",
            "data of 107\n",
            "data for lat = 28.614953615791848 and lon = 88.17019152415828\n",
            "data of 108\n",
            "data for lat = 29.934362234401316 and lon = 81.77786956676627\n",
            "data of 109\n",
            "data for lat = 26.863709889764344 and lon = 81.30074556308296\n",
            "data of 110\n",
            "data for lat = 30.33497972670733 and lon = 84.4012280682969\n",
            "data of 111\n",
            "data for lat = 29.280111974442654 and lon = 85.92005540102473\n",
            "data of 112\n",
            "data for lat = 28.520908103104308 and lon = 82.5878930193152\n",
            "data of 113\n",
            "data for lat = 29.130469113644768 and lon = 87.36684865353723\n",
            "data of 114\n",
            "data for lat = 30.101291946184364 and lon = 80.11009312234023\n",
            "data of 115\n",
            "data for lat = 28.617456756279342 and lon = 82.27886160884768\n",
            "data of 116\n",
            "data for lat = 30.082536120268333 and lon = 80.52469489776445\n",
            "data of 117\n",
            "data for lat = 26.523394553227092 and lon = 82.88821447085736\n",
            "data of 118\n",
            "data for lat = 27.70449083592832 and lon = 82.46907229283636\n",
            "data of 119\n",
            "data for lat = 30.416476315326264 and lon = 83.92812238346231\n",
            "data of 120\n",
            "data for lat = 27.009737018418598 and lon = 86.44387880211328\n",
            "data of 121\n",
            "data for lat = 29.2956914173761 and lon = 86.8423378567513\n",
            "data of 122\n",
            "data for lat = 27.708984047330944 and lon = 86.71123856654577\n",
            "data of 123\n",
            "data for lat = 29.078717792200578 and lon = 81.25307407957757\n",
            "data of 124\n",
            "data for lat = 29.39145483945792 and lon = 83.36583556943275\n",
            "data of 125\n",
            "data for lat = 27.214024322108315 and lon = 80.35077806200992\n",
            "data of 126\n",
            "data for lat = 27.19032618701618 and lon = 81.39289943291854\n",
            "data of 127\n",
            "data for lat = 30.14269351037987 and lon = 83.09677947273066\n",
            "data of 128\n",
            "data for lat = 26.380878635665603 and lon = 81.42452485632722\n",
            "data of 129\n",
            "data for lat = 27.644546469264455 and lon = 81.18136428280714\n",
            "data of 130\n",
            "data for lat = 26.62835070721327 and lon = 84.12710521607684\n",
            "data of 131\n",
            "data for lat = 30.293305022596652 and lon = 83.19283012207427\n",
            "data of 132\n",
            "data for lat = 26.745438567304404 and lon = 83.0308977498596\n",
            "data of 133\n",
            "data for lat = 27.59926397515901 and lon = 85.37811400614514\n",
            "data of 134\n",
            "data for lat = 27.549453166310915 and lon = 83.99066005236806\n",
            "data of 135\n",
            "data for lat = 28.553463911442755 and lon = 83.52033409494399\n",
            "data of 136\n",
            "data for lat = 27.16415786316667 and lon = 83.9636677372305\n",
            "data of 137\n",
            "data for lat = 26.65175399399981 and lon = 82.21976646861845\n",
            "data of 138\n",
            "data for lat = 27.45662344684559 and lon = 83.74583829499242\n",
            "data of 139\n",
            "data for lat = 28.31985809686721 and lon = 85.9731020091707\n",
            "data of 140\n",
            "data for lat = 30.36488005223164 and lon = 81.45345857739107\n",
            "data of 141\n",
            "data for lat = 27.719199176831584 and lon = 80.15537467010829\n",
            "data of 142\n",
            "data for lat = 28.410280662462768 and lon = 86.34803273749019\n",
            "data of 143\n",
            "data for lat = 30.18010742722982 and lon = 85.60539539785385\n",
            "data of 144\n",
            "data for lat = 26.664820527272454 and lon = 83.37904599606962\n",
            "data of 145\n",
            "data for lat = 28.447387170502054 and lon = 83.08046787875206\n",
            "data of 146\n",
            "data for lat = 28.569196218731257 and lon = 81.5851419320452\n",
            "data of 147\n",
            "data for lat = 28.25671338680775 and lon = 86.69695501720881\n",
            "data of 148\n",
            "data for lat = 29.3355766364144 and lon = 80.81460109961448\n",
            "data of 149\n",
            "data for lat = 29.31954072990379 and lon = 81.64854088596442\n",
            "data of 150\n",
            "data for lat = 27.48756699036627 and lon = 85.11181944472425\n",
            "data of 151\n",
            "data for lat = 26.403159189896883 and lon = 86.99488753524484\n",
            "data of 152\n",
            "data for lat = 29.804038512848102 and lon = 83.83515720153291\n",
            "data of 153\n",
            "data for lat = 27.184225860393386 and lon = 83.918369679008\n",
            "data of 154\n",
            "data for lat = 30.17798998914532 and lon = 81.31170162734385\n",
            "data of 155\n",
            "data for lat = 27.314824341099072 and lon = 81.27549327123369\n",
            "data of 156\n",
            "data for lat = 28.71593386064798 and lon = 84.74797163741447\n",
            "data of 157\n",
            "data for lat = 27.545604974099156 and lon = 83.17055702136933\n",
            "data of 158\n",
            "data for lat = 30.259501934154784 and lon = 80.28981155801497\n",
            "data of 159\n",
            "data for lat = 28.303999335985168 and lon = 80.93746546102503\n",
            "data of 160\n",
            "data for lat = 27.424441556665684 and lon = 87.21196350552299\n",
            "data of 161\n",
            "data for lat = 27.193069852628447 and lon = 85.78269803763263\n",
            "data of 162\n",
            "data for lat = 27.446591535150137 and lon = 87.23655609889006\n",
            "data of 163\n",
            "data for lat = 28.261097368577236 and lon = 80.9429294170722\n",
            "data of 164\n",
            "data for lat = 28.580865474770548 and lon = 80.62710954940408\n",
            "data of 165\n",
            "data for lat = 29.406926661371738 and lon = 87.09549693855693\n",
            "data of 166\n",
            "data for lat = 29.596726823318754 and lon = 83.44527725468575\n",
            "data of 167\n",
            "data for lat = 29.142745000169842 and lon = 87.01409167760347\n",
            "data of 168\n",
            "data for lat = 26.437393610346437 and lon = 86.09653426755101\n",
            "data of 169\n",
            "data for lat = 26.467597712605816 and lon = 82.37632548980066\n",
            "data of 170\n",
            "data for lat = 27.213120696494826 and lon = 86.26287806402794\n",
            "data of 171\n",
            "data for lat = 26.92090219026054 and lon = 83.73149001416218\n",
            "data of 172\n",
            "data for lat = 29.942460949282797 and lon = 86.15571564169043\n",
            "data of 173\n",
            "data for lat = 27.009112243503793 and lon = 83.05312423114707\n",
            "data of 174\n",
            "data for lat = 26.595340275231518 and lon = 87.83859732926467\n",
            "data of 175\n",
            "data for lat = 28.03544659290932 and lon = 82.37116208261266\n",
            "data of 176\n",
            "data for lat = 30.140200149228583 and lon = 87.84715890462884\n",
            "data of 177\n",
            "data for lat = 27.392314895407175 and lon = 81.71926216806706\n",
            "data of 178\n",
            "data for lat = 26.65131587638103 and lon = 86.04453867492344\n",
            "data of 179\n",
            "data for lat = 28.606774717320484 and lon = 81.088236658203\n",
            "data of 180\n",
            "data for lat = 30.220291326785752 and lon = 82.21119328906832\n",
            "data of 181\n",
            "data for lat = 27.20826510007784 and lon = 84.21812565107199\n",
            "data of 182\n",
            "data for lat = 28.947629594617286 and lon = 80.17109125859874\n",
            "data of 183\n",
            "data for lat = 27.261406968063703 and lon = 83.1474070733392\n",
            "data of 184\n",
            "data for lat = 29.867895974870176 and lon = 86.14179856351018\n",
            "data of 185\n",
            "data for lat = 27.971116049647147 and lon = 84.5146835562306\n",
            "data of 186\n",
            "data for lat = 27.01903371445444 and lon = 82.84453068830284\n",
            "data of 187\n",
            "data for lat = 29.821263947238965 and lon = 84.58296997587978\n",
            "data of 188\n",
            "data for lat = 27.247143783222942 and lon = 82.76856972353238\n",
            "data of 189\n",
            "data for lat = 28.83161420287576 and lon = 86.28344989526292\n",
            "data of 190\n",
            "data for lat = 30.44228304995955 and lon = 87.43220698204988\n",
            "data of 191\n",
            "data for lat = 30.267597125421688 and lon = 83.41386476554695\n",
            "data of 192\n",
            "data for lat = 26.878977159287803 and lon = 82.12490844465637\n",
            "data of 193\n",
            "data for lat = 29.5347227411393 and lon = 84.6594650505359\n",
            "data of 194\n",
            "data for lat = 27.15437392274258 and lon = 84.76439918742116\n",
            "data of 195\n",
            "data for lat = 26.484136646617834 and lon = 80.31907568539815\n",
            "data of 196\n",
            "data for lat = 27.919476924505577 and lon = 83.28761821334965\n",
            "data of 197\n",
            "data for lat = 28.215061576814144 and lon = 87.48092249132128\n",
            "data of 198\n",
            "data for lat = 29.485708354552 and lon = 80.09110840082452\n",
            "data of 199\n"
          ]
        }
      ],
      "source": [
        "cap_fac = []\n",
        "ghi = []\n",
        "location = []\n",
        "for i in range(200):    \n",
        "    lon = random.uniform(80.06014, 88.20401)\n",
        "    lat = random.uniform(26.347515, 30.447021)\n",
        "    print('data for lat = {} and lon = {}'.format(lat,lon))\n",
        "    url = 'https://developer.nrel.gov/api/pvwatts/v6.json?api_key=yourkeyhere&lat={}&lon={}&system_capacity=4&azimuth=180&tilt=40&array_type=1&module_type=1&losses=10'.format(lat,lon)\n",
        "    resp = req.get(url)\n",
        "    data = resp.json()\n",
        "    try:\n",
        "        cf = data['outputs']['capacity_factor']\n",
        "        sol_rad = data['outputs']['solrad_annual']\n",
        "        location.append([lat,lon])\n",
        "        cap_fac.append(cf)\n",
        "        ghi.append(sol_rad)\n",
        "        print(\"data of\",i)\n",
        "    except:\n",
        "        print('data not availeble')"
      ]
    },
    {
      "cell_type": "code",
      "execution_count": 25,
      "metadata": {
        "colab": {
          "base_uri": "https://localhost:8080/",
          "height": 282
        },
        "id": "9ZJyfkC2BhAY",
        "outputId": "694819bd-f1c5-4430-c83b-dfcc1957e3dd"
      },
      "outputs": [
        {
          "output_type": "execute_result",
          "data": {
            "text/plain": [
              "<matplotlib.collections.PathCollection at 0x7fe38ad2ee50>"
            ]
          },
          "metadata": {},
          "execution_count": 25
        },
        {
          "output_type": "display_data",
          "data": {
            "text/plain": [
              "<Figure size 432x288 with 1 Axes>"
            ],
            "image/png": "[encoded data removed]"
          },
          "metadata": {
            "needs_background": "light"
          }
        }
      ],
      "source": [
        "plt.scatter(cap_fac,ghi)"
      ]
    },
    {
      "cell_type": "code",
      "execution_count": 28,
      "metadata": {
        "id": "x8K2LgNFBhAY"
      },
      "outputs": [],
      "source": [
        "cap_ghi = pd.DataFrame()\n",
        "cap_ghi['ghi'] = ghi\n",
        "cap_ghi['cap_fac']= cap_fac\n",
        "cap_ghi['locaiton']= location\n",
        "cap_ghi.to_csv('cap_ghi.csv')"
      ]
    },
    {
      "cell_type": "code",
      "execution_count": 29,
      "metadata": {
        "id": "0ilq1w4NBhAZ"
      },
      "outputs": [],
      "source": [
        "cap_ghi = pd.read_csv('cap_ghi.csv')"
      ]
    },
    {
      "cell_type": "code",
      "execution_count": 30,
      "metadata": {
        "colab": {
          "base_uri": "https://localhost:8080/"
        },
        "id": "YusiuJbTBhAa",
        "outputId": "e2d87ef2-c7e1-43a5-c7af-3514bd693256"
      },
      "outputs": [
        {
          "output_type": "execute_result",
          "data": {
            "text/plain": [
              "0      0.241213\n",
              "1      0.242707\n",
              "2      0.173098\n",
              "3      0.219535\n",
              "4      0.178869\n",
              "         ...   \n",
              "195    0.178823\n",
              "196    0.181415\n",
              "197    0.180551\n",
              "198    0.235161\n",
              "199    0.185126\n",
              "Name: cap_fac, Length: 200, dtype: float64"
            ]
          },
          "metadata": {},
          "execution_count": 30
        }
      ],
      "source": [
        "cap_ghi['cap_fac']/100"
      ]
    },
    {
      "cell_type": "code",
      "execution_count": 31,
      "metadata": {
        "id": "f6cH0EB0BhAa"
      },
      "outputs": [],
      "source": [
        "from scipy.optimize import curve_fit"
      ]
    },
    {
      "cell_type": "code",
      "execution_count": 32,
      "metadata": {
        "id": "R_nP5rf7BhAb"
      },
      "outputs": [],
      "source": [
        "#defining the fitting curve function;\n",
        "def func(x,a,b):\n",
        "    return a*(x) +b"
      ]
    },
    {
      "cell_type": "code",
      "execution_count": 33,
      "metadata": {
        "id": "RxnUko1rBhAb"
      },
      "outputs": [],
      "source": [
        "a,b = curve_fit(func,cap_ghi.ghi,cap_ghi.cap_fac/100)"
      ]
    },
    {
      "cell_type": "code",
      "execution_count": 34,
      "metadata": {
        "id": "VH7D60-CBhAb"
      },
      "outputs": [],
      "source": [
        "x = np.linspace(4.5,7,197)\n",
        "y = func(x,a[0],a[1])"
      ]
    },
    {
      "cell_type": "code",
      "execution_count": 35,
      "metadata": {
        "colab": {
          "base_uri": "https://localhost:8080/",
          "height": 279
        },
        "id": "hBZA8v5lBhAb",
        "outputId": "41c74556-1ede-457b-b8ce-104f97a3e3f1"
      },
      "outputs": [
        {
          "output_type": "display_data",
          "data": {
            "text/plain": [
              "<Figure size 432x288 with 1 Axes>"
            ],
            "image/png": "[encoded data removed]"
          },
          "metadata": {
            "needs_background": "light"
          }
        }
      ],
      "source": [
        "plt.scatter(cap_ghi.ghi,cap_ghi.cap_fac/100)\n",
        "plt.plot(x,y,'r')\n",
        "plt.xlabel('GHI level')\n",
        "plt.ylabel('CF')\n",
        "plt.savefig('corrghi.png')\n",
        "plt.show()\n"
      ]
    },
    {
      "cell_type": "code",
      "execution_count": 36,
      "metadata": {
        "id": "txfZ-HAtBhAc"
      },
      "outputs": [],
      "source": [
        "from scipy import stats\n",
        "slope, intercept, r_value, p_value, std_err = stats.linregress(cap_ghi.ghi,cap_ghi.cap_fac/100)"
      ]
    },
    {
      "cell_type": "code",
      "execution_count": 37,
      "metadata": {
        "colab": {
          "base_uri": "https://localhost:8080/"
        },
        "id": "aQou0t2lBhAc",
        "outputId": "314fefde-98cd-4a0c-fb8a-3613e971f18d"
      },
      "outputs": [
        {
          "output_type": "execute_result",
          "data": {
            "text/plain": [
              "0.9871539871513928"
            ]
          },
          "metadata": {},
          "execution_count": 37
        }
      ],
      "source": [
        "r_value**2"
      ]
    },
    {
      "cell_type": "code",
      "execution_count": 38,
      "metadata": {
        "colab": {
          "base_uri": "https://localhost:8080/"
        },
        "id": "TbYd25lWBhAd",
        "outputId": "77a39de7-1124-41bc-88f2-78db899ce7e4"
      },
      "outputs": [
        {
          "output_type": "execute_result",
          "data": {
            "text/plain": [
              "0.037479515135625474"
            ]
          },
          "metadata": {},
          "execution_count": 38
        }
      ],
      "source": [
        "slope"
      ]
    },
    {
      "cell_type": "code",
      "execution_count": 39,
      "metadata": {
        "colab": {
          "base_uri": "https://localhost:8080/"
        },
        "id": "OgslPxZEBhAd",
        "outputId": "064ce297-38c4-49e7-ad0e-b747fcdac8ab"
      },
      "outputs": [
        {
          "output_type": "execute_result",
          "data": {
            "text/plain": [
              "-0.024312887907517094"
            ]
          },
          "metadata": {},
          "execution_count": 39
        }
      ],
      "source": [
        "intercept"
      ]
    }
  ],
  "metadata": {
    "kernelspec": {
      "display_name": "Python 3",
      "language": "python",
      "name": "python3"
    },
    "language_info": {
      "codemirror_mode": {
        "name": "ipython",
        "version": 3
      },
      "file_extension": ".py",
      "mimetype": "text/x-python",
      "name": "python",
      "nbconvert_exporter": "python",
      "pygments_lexer": "ipython3",
      "version": "3.8.3"
    },
    "colab": {
      "name": "Sam_Model.ipynb",
      "provenance": [],
      "collapsed_sections": []
    }
  },
  "nbformat": 4,
  "nbformat_minor": 0
}